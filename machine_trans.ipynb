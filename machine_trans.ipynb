{
 "cells": [
  {
   "cell_type": "code",
   "execution_count": 56,
   "metadata": {},
   "outputs": [],
   "source": [
    "import os\n",
    "import sys\n",
    "import numpy as np\n",
    "import matplotlib.pyplot as plt"
   ]
  },
  {
   "cell_type": "code",
   "execution_count": 2,
   "metadata": {},
   "outputs": [
    {
     "name": "stderr",
     "output_type": "stream",
     "text": [
      "Using TensorFlow backend.\n"
     ]
    }
   ],
   "source": [
    "import keras.backend as k\n",
    "from keras.models import Model\n",
    "from keras.layers import Input, LSTM, GRU, Dense, Embedding\n",
    "from keras.preprocessing.text import Tokenizer\n",
    "from keras.preprocessing.sequence import pad_sequences\n",
    "from keras.utils import to_categorical"
   ]
  },
  {
   "cell_type": "code",
   "execution_count": 3,
   "metadata": {},
   "outputs": [],
   "source": [
    "BATCH_SIZE = 64  \n",
    "EPOCHS = 100  \n",
    "LATENT_DIM = 256  \n",
    "NUM_SAMPLES = 30000\n",
    "MAX_SEQUENCE_LENGTH = 100\n",
    "MAX_NUM_WORDS = 20000\n",
    "EMBEDDING_DIM = 100"
   ]
  },
  {
   "cell_type": "code",
   "execution_count": 4,
   "metadata": {},
   "outputs": [],
   "source": [
    "input_texts = [] \n",
    "target_texts = [] \n",
    "target_texts_inputs = []"
   ]
  },
  {
   "cell_type": "code",
   "execution_count": 5,
   "metadata": {},
   "outputs": [
    {
     "name": "stdout",
     "output_type": "stream",
     "text": [
      "num samples: 30000\n"
     ]
    }
   ],
   "source": [
    "t = 0\n",
    "for line in open('ita-eng/ita.txt',encoding='utf-8'):\n",
    "    t += 1\n",
    "    if t > NUM_SAMPLES:\n",
    "        break\n",
    "\n",
    "    if '\\t' not in line:\n",
    "        continue\n",
    "\n",
    "    input_text, translation = line.rstrip().split('\\t')\n",
    "\n",
    "    target_text = translation + ' <eos>'\n",
    "    target_text_input = '<sos> ' + translation\n",
    "\n",
    "    input_texts.append(input_text)\n",
    "    target_texts.append(target_text)\n",
    "    target_texts_inputs.append(target_text_input)\n",
    "print(\"num samples:\", len(input_texts))"
   ]
  },
  {
   "cell_type": "code",
   "execution_count": 6,
   "metadata": {},
   "outputs": [],
   "source": [
    "#### input- English\n",
    "#### output- Italian"
   ]
  },
  {
   "cell_type": "code",
   "execution_count": 7,
   "metadata": {},
   "outputs": [],
   "source": [
    "tokenizer_inputs = Tokenizer(num_words=MAX_NUM_WORDS)\n",
    "tokenizer_inputs.fit_on_texts(input_texts)\n",
    "input_sequences = tokenizer_inputs.texts_to_sequences(input_texts)"
   ]
  },
  {
   "cell_type": "code",
   "execution_count": 8,
   "metadata": {},
   "outputs": [
    {
     "name": "stdout",
     "output_type": "stream",
     "text": [
      "3113 unique input tokens.\n"
     ]
    }
   ],
   "source": [
    "word2idx_inputs = tokenizer_inputs.word_index\n",
    "print('{} unique input tokens.'.format(len(word2idx_inputs)))"
   ]
  },
  {
   "cell_type": "code",
   "execution_count": 9,
   "metadata": {},
   "outputs": [],
   "source": [
    "max_len_input = max(len(s) for s in input_sequences)"
   ]
  },
  {
   "cell_type": "code",
   "execution_count": 10,
   "metadata": {},
   "outputs": [
    {
     "name": "stdout",
     "output_type": "stream",
     "text": [
      "Found 9727 unique output tokens.\n"
     ]
    }
   ],
   "source": [
    "tokenizer_outputs = Tokenizer(num_words=MAX_NUM_WORDS, filters='')\n",
    "tokenizer_outputs.fit_on_texts(target_texts + target_texts_inputs) \n",
    "target_sequences = tokenizer_outputs.texts_to_sequences(target_texts)\n",
    "target_sequences_inputs = tokenizer_outputs.texts_to_sequences(target_texts_inputs)\n",
    "\n",
    "word2idx_outputs = tokenizer_outputs.word_index\n",
    "print('Found %s unique output tokens.' % len(word2idx_outputs))"
   ]
  },
  {
   "cell_type": "code",
   "execution_count": 11,
   "metadata": {},
   "outputs": [],
   "source": [
    "num_words_output = len(word2idx_outputs) + 1    ####because the encoding starts from 1\n",
    "max_len_target = max(len(s) for s in target_sequences)"
   ]
  },
  {
   "cell_type": "code",
   "execution_count": 12,
   "metadata": {},
   "outputs": [
    {
     "name": "stdout",
     "output_type": "stream",
     "text": [
      "encoder_inputs.shape: (30000, 5)\n",
      "encoder_inputs[0]: [   0    0    0    0 1382]\n"
     ]
    }
   ],
   "source": [
    "encoder_inputs = pad_sequences(input_sequences, maxlen=max_len_input)\n",
    "print(\"encoder_inputs.shape:\", encoder_inputs.shape)\n",
    "print(\"encoder_inputs[0]:\", encoder_inputs[0])"
   ]
  },
  {
   "cell_type": "code",
   "execution_count": 13,
   "metadata": {},
   "outputs": [
    {
     "name": "stdout",
     "output_type": "stream",
     "text": [
      "decoder_inputs[0]: [   2 1839    0    0    0    0    0    0    0]\n",
      "decoder_inputs.shape: (30000, 9)\n"
     ]
    }
   ],
   "source": [
    "decoder_inputs = pad_sequences(target_sequences_inputs, maxlen=max_len_target, padding='post')\n",
    "print(\"decoder_inputs[0]:\", decoder_inputs[0])\n",
    "print(\"decoder_inputs.shape:\", decoder_inputs.shape)"
   ]
  },
  {
   "cell_type": "code",
   "execution_count": 14,
   "metadata": {},
   "outputs": [],
   "source": [
    "decoder_targets = pad_sequences(target_sequences, maxlen=max_len_target, padding='post')"
   ]
  },
  {
   "cell_type": "markdown",
   "metadata": {},
   "source": [
    "# Loading pretrained word embeddings"
   ]
  },
  {
   "cell_type": "code",
   "execution_count": 15,
   "metadata": {},
   "outputs": [
    {
     "name": "stdout",
     "output_type": "stream",
     "text": [
      "found 400000 words in embedding\n"
     ]
    }
   ],
   "source": [
    "word2vec = {}\n",
    "with open('glove.6B/glove.6B.100d.txt',encoding='utf-8') as f:\n",
    "    for line in f:\n",
    "        values = line.split()\n",
    "        word = values[0]\n",
    "        vec = np.asarray(values[1:], dtype='float32')\n",
    "        word2vec[word] = vec\n",
    "print('found {} words in embedding'.format(len(word2vec)))"
   ]
  },
  {
   "cell_type": "markdown",
   "metadata": {},
   "source": [
    "\n",
    "# Using pretrained embeddings"
   ]
  },
  {
   "cell_type": "code",
   "execution_count": 16,
   "metadata": {},
   "outputs": [],
   "source": [
    "num_words = min(MAX_NUM_WORDS, len(word2idx_inputs) + 1)\n",
    "embedding_matrix = np.zeros((num_words, EMBEDDING_DIM))\n",
    "for word, i in word2idx_inputs.items():\n",
    "    if i < MAX_NUM_WORDS:\n",
    "        embedding_vector = word2vec.get(word)\n",
    "    if embedding_vector is not None:                                                        \n",
    "        embedding_matrix[i] = embedding_vector  # words not found in embedding index will be all zeros."
   ]
  },
  {
   "cell_type": "code",
   "execution_count": 17,
   "metadata": {},
   "outputs": [
    {
     "name": "stderr",
     "output_type": "stream",
     "text": [
      "WARNING: Logging before flag parsing goes to stderr.\n",
      "W0811 05:23:36.625159  1412 deprecation_wrapper.py:119] From C:\\ProgramData\\Anaconda3\\lib\\site-packages\\keras\\backend\\tensorflow_backend.py:74: The name tf.get_default_graph is deprecated. Please use tf.compat.v1.get_default_graph instead.\n",
      "\n"
     ]
    }
   ],
   "source": [
    "embedding_layer = Embedding(num_words,EMBEDDING_DIM,weights=[embedding_matrix],input_length=max_len_input,)"
   ]
  },
  {
   "cell_type": "code",
   "execution_count": 18,
   "metadata": {},
   "outputs": [],
   "source": [
    "decoder_targets_one_hot = np.zeros((len(input_texts),max_len_target,num_words_output)) ####for using categorical crossentropy"
   ]
  },
  {
   "cell_type": "code",
   "execution_count": 19,
   "metadata": {},
   "outputs": [],
   "source": [
    "for i, d in enumerate(decoder_targets):\n",
    "    for t, word in enumerate(d):\n",
    "        decoder_targets_one_hot[i, t, word] = 1"
   ]
  },
  {
   "cell_type": "code",
   "execution_count": 20,
   "metadata": {},
   "outputs": [
    {
     "name": "stderr",
     "output_type": "stream",
     "text": [
      "W0811 05:23:42.364829  1412 deprecation_wrapper.py:119] From C:\\ProgramData\\Anaconda3\\lib\\site-packages\\keras\\backend\\tensorflow_backend.py:517: The name tf.placeholder is deprecated. Please use tf.compat.v1.placeholder instead.\n",
      "\n",
      "W0811 05:23:42.366793  1412 deprecation_wrapper.py:119] From C:\\ProgramData\\Anaconda3\\lib\\site-packages\\keras\\backend\\tensorflow_backend.py:4138: The name tf.random_uniform is deprecated. Please use tf.random.uniform instead.\n",
      "\n",
      "W0811 05:23:42.373370  1412 deprecation_wrapper.py:119] From C:\\ProgramData\\Anaconda3\\lib\\site-packages\\keras\\backend\\tensorflow_backend.py:174: The name tf.get_default_session is deprecated. Please use tf.compat.v1.get_default_session instead.\n",
      "\n",
      "W0811 05:23:42.374368  1412 deprecation_wrapper.py:119] From C:\\ProgramData\\Anaconda3\\lib\\site-packages\\keras\\backend\\tensorflow_backend.py:181: The name tf.ConfigProto is deprecated. Please use tf.compat.v1.ConfigProto instead.\n",
      "\n"
     ]
    }
   ],
   "source": [
    "encoder_inputs_placeholder = Input(shape=(max_len_input,))\n",
    "x = embedding_layer(encoder_inputs_placeholder)\n",
    "encoder = LSTM(LATENT_DIM, return_state=True,)\n",
    "encoder_outputs, h, c = encoder(x)"
   ]
  },
  {
   "cell_type": "code",
   "execution_count": 21,
   "metadata": {},
   "outputs": [],
   "source": [
    "encoder_states = [h, c]"
   ]
  },
  {
   "cell_type": "code",
   "execution_count": 22,
   "metadata": {},
   "outputs": [],
   "source": [
    "decoder_inputs_placeholder = Input(shape=(max_len_target,))\n",
    "decoder_embedding = Embedding(num_words_output, LATENT_DIM)\n",
    "decoder_inputs_x = decoder_embedding(decoder_inputs_placeholder)"
   ]
  },
  {
   "cell_type": "code",
   "execution_count": 23,
   "metadata": {},
   "outputs": [],
   "source": [
    "decoder_lstm = LSTM(LATENT_DIM,  return_sequences=True,  return_state=True,)\n",
    "decoder_outputs, h, c = decoder_lstm(decoder_inputs_x,  initial_state=encoder_states)"
   ]
  },
  {
   "cell_type": "code",
   "execution_count": 24,
   "metadata": {},
   "outputs": [],
   "source": [
    "decoder_dense = Dense(num_words_output, activation='softmax')\n",
    "decoder_outputs = decoder_dense(decoder_outputs)"
   ]
  },
  {
   "cell_type": "code",
   "execution_count": 25,
   "metadata": {},
   "outputs": [],
   "source": [
    "model = Model([encoder_inputs_placeholder, decoder_inputs_placeholder], decoder_outputs)"
   ]
  },
  {
   "cell_type": "code",
   "execution_count": 26,
   "metadata": {},
   "outputs": [
    {
     "name": "stderr",
     "output_type": "stream",
     "text": [
      "W0811 05:23:46.786103  1412 deprecation_wrapper.py:119] From C:\\ProgramData\\Anaconda3\\lib\\site-packages\\keras\\optimizers.py:790: The name tf.train.Optimizer is deprecated. Please use tf.compat.v1.train.Optimizer instead.\n",
      "\n"
     ]
    }
   ],
   "source": [
    "model.compile(optimizer='rmsprop',loss='categorical_crossentropy',metrics=['accuracy'])"
   ]
  },
  {
   "cell_type": "code",
   "execution_count": 55,
   "metadata": {},
   "outputs": [
    {
     "name": "stdout",
     "output_type": "stream",
     "text": [
      "__________________________________________________________________________________________________\n",
      "Layer (type)                    Output Shape         Param #     Connected to                     \n",
      "==================================================================================================\n",
      "input_1 (InputLayer)            (None, 5)            0                                            \n",
      "__________________________________________________________________________________________________\n",
      "input_2 (InputLayer)            (None, 9)            0                                            \n",
      "__________________________________________________________________________________________________\n",
      "embedding_1 (Embedding)         (None, 5, 100)       311400      input_1[0][0]                    \n",
      "__________________________________________________________________________________________________\n",
      "embedding_2 (Embedding)         multiple             2490368     input_2[0][0]                    \n",
      "__________________________________________________________________________________________________\n",
      "lstm_1 (LSTM)                   [(None, 256), (None, 365568      embedding_1[0][0]                \n",
      "__________________________________________________________________________________________________\n",
      "lstm_2 (LSTM)                   multiple             525312      embedding_2[0][0]                \n",
      "                                                                 lstm_1[0][1]                     \n",
      "                                                                 lstm_1[0][2]                     \n",
      "__________________________________________________________________________________________________\n",
      "dense_1 (Dense)                 multiple             2500096     lstm_2[0][0]                     \n",
      "==================================================================================================\n",
      "Total params: 6,192,744\n",
      "Trainable params: 6,192,744\n",
      "Non-trainable params: 0\n",
      "__________________________________________________________________________________________________\n"
     ]
    }
   ],
   "source": [
    "model.summary()"
   ]
  },
  {
   "cell_type": "code",
   "execution_count": 27,
   "metadata": {
    "scrolled": true
   },
   "outputs": [
    {
     "name": "stderr",
     "output_type": "stream",
     "text": [
      "W0811 05:23:47.537619  1412 deprecation.py:323] From C:\\ProgramData\\Anaconda3\\lib\\site-packages\\tensorflow\\python\\ops\\math_grad.py:1250: add_dispatch_support.<locals>.wrapper (from tensorflow.python.ops.array_ops) is deprecated and will be removed in a future version.\n",
      "Instructions for updating:\n",
      "Use tf.where in 2.0, which has the same broadcast rule as np.where\n"
     ]
    },
    {
     "name": "stdout",
     "output_type": "stream",
     "text": [
      "Train on 24000 samples, validate on 6000 samples\n",
      "Epoch 1/100\n",
      "24000/24000 [==============================] - 236s 10ms/step - loss: 2.1702 - acc: 0.6995 - val_loss: 2.1936 - val_acc: 0.6934\n",
      "Epoch 2/100\n",
      "24000/24000 [==============================] - 212s 9ms/step - loss: 1.5627 - acc: 0.7611 - val_loss: 1.9594 - val_acc: 0.7282\n",
      "Epoch 3/100\n",
      "24000/24000 [==============================] - 204s 9ms/step - loss: 1.3325 - acc: 0.7866 - val_loss: 1.8235 - val_acc: 0.7440\n",
      "Epoch 4/100\n",
      "24000/24000 [==============================] - 216s 9ms/step - loss: 1.1795 - acc: 0.8032 - val_loss: 1.7464 - val_acc: 0.7512\n",
      "Epoch 5/100\n",
      "24000/24000 [==============================] - 231s 10ms/step - loss: 1.0621 - acc: 0.8174 - val_loss: 1.7174 - val_acc: 0.7557\n",
      "Epoch 6/100\n",
      "24000/24000 [==============================] - 224s 9ms/step - loss: 0.9724 - acc: 0.8286 - val_loss: 1.6839 - val_acc: 0.7606\n",
      "Epoch 7/100\n",
      "24000/24000 [==============================] - 223s 9ms/step - loss: 0.9008 - acc: 0.8379 - val_loss: 1.6942 - val_acc: 0.7606\n",
      "Epoch 8/100\n",
      "24000/24000 [==============================] - 226s 9ms/step - loss: 0.8443 - acc: 0.8454 - val_loss: 1.6844 - val_acc: 0.7621\n",
      "Epoch 9/100\n",
      "24000/24000 [==============================] - 230s 10ms/step - loss: 0.8084 - acc: 0.8505 - val_loss: 1.7098 - val_acc: 0.7606\n",
      "Epoch 10/100\n",
      "24000/24000 [==============================] - 248s 10ms/step - loss: 0.7713 - acc: 0.8553 - val_loss: 1.7213 - val_acc: 0.7604\n",
      "Epoch 11/100\n",
      "24000/24000 [==============================] - 230s 10ms/step - loss: 0.7421 - acc: 0.8585 - val_loss: 1.7438 - val_acc: 0.7574\n",
      "Epoch 12/100\n",
      "24000/24000 [==============================] - 235s 10ms/step - loss: 0.7209 - acc: 0.8616 - val_loss: 1.7515 - val_acc: 0.7571\n",
      "Epoch 13/100\n",
      "24000/24000 [==============================] - 225s 9ms/step - loss: 0.7032 - acc: 0.8641 - val_loss: 1.7792 - val_acc: 0.7564\n",
      "Epoch 14/100\n",
      "24000/24000 [==============================] - 226s 9ms/step - loss: 0.6862 - acc: 0.8664 - val_loss: 1.7852 - val_acc: 0.7567\n",
      "Epoch 15/100\n",
      "24000/24000 [==============================] - 229s 10ms/step - loss: 0.6719 - acc: 0.8678 - val_loss: 1.8144 - val_acc: 0.7545\n",
      "Epoch 16/100\n",
      "24000/24000 [==============================] - 227s 9ms/step - loss: 0.6631 - acc: 0.8692 - val_loss: 1.7993 - val_acc: 0.7563\n",
      "Epoch 17/100\n",
      "24000/24000 [==============================] - 227s 9ms/step - loss: 0.6587 - acc: 0.8706 - val_loss: 1.8234 - val_acc: 0.7565\n",
      "Epoch 18/100\n",
      "24000/24000 [==============================] - 226s 9ms/step - loss: 0.6483 - acc: 0.8718 - val_loss: 1.8431 - val_acc: 0.7561\n",
      "Epoch 19/100\n",
      "24000/24000 [==============================] - 213s 9ms/step - loss: 0.6432 - acc: 0.8723 - val_loss: 1.8653 - val_acc: 0.7542\n",
      "Epoch 20/100\n",
      "24000/24000 [==============================] - 212s 9ms/step - loss: 0.6404 - acc: 0.8730 - val_loss: 1.8790 - val_acc: 0.7548\n",
      "Epoch 21/100\n",
      "24000/24000 [==============================] - 213s 9ms/step - loss: 0.6322 - acc: 0.8736 - val_loss: 1.8873 - val_acc: 0.7533\n",
      "Epoch 22/100\n",
      "24000/24000 [==============================] - 211s 9ms/step - loss: 0.6263 - acc: 0.8744 - val_loss: 1.8809 - val_acc: 0.7541\n",
      "Epoch 23/100\n",
      "24000/24000 [==============================] - 211s 9ms/step - loss: 0.6214 - acc: 0.8750 - val_loss: 1.8911 - val_acc: 0.7536\n",
      "Epoch 24/100\n",
      "24000/24000 [==============================] - 211s 9ms/step - loss: 0.6177 - acc: 0.8752 - val_loss: 1.9037 - val_acc: 0.7531\n",
      "Epoch 25/100\n",
      "24000/24000 [==============================] - 211s 9ms/step - loss: 0.6115 - acc: 0.8756 - val_loss: 1.9054 - val_acc: 0.7529\n",
      "Epoch 26/100\n",
      "24000/24000 [==============================] - 210s 9ms/step - loss: 0.6081 - acc: 0.8760 - val_loss: 1.9153 - val_acc: 0.7534\n",
      "Epoch 27/100\n",
      "24000/24000 [==============================] - 211s 9ms/step - loss: 0.6054 - acc: 0.8770 - val_loss: 1.9353 - val_acc: 0.7539\n",
      "Epoch 28/100\n",
      "24000/24000 [==============================] - 211s 9ms/step - loss: 0.6024 - acc: 0.8772 - val_loss: 1.9492 - val_acc: 0.7512\n",
      "Epoch 29/100\n",
      "24000/24000 [==============================] - 210s 9ms/step - loss: 0.5993 - acc: 0.8776 - val_loss: 1.9530 - val_acc: 0.7531\n",
      "Epoch 30/100\n",
      "24000/24000 [==============================] - 210s 9ms/step - loss: 0.5959 - acc: 0.8774 - val_loss: 1.9611 - val_acc: 0.7521\n",
      "Epoch 31/100\n",
      "24000/24000 [==============================] - 211s 9ms/step - loss: 0.5926 - acc: 0.8778 - val_loss: 1.9618 - val_acc: 0.7529\n",
      "Epoch 32/100\n",
      "24000/24000 [==============================] - 212s 9ms/step - loss: 0.5896 - acc: 0.8782 - val_loss: 1.9720 - val_acc: 0.7523\n",
      "Epoch 33/100\n",
      "24000/24000 [==============================] - 210s 9ms/step - loss: 0.5873 - acc: 0.8784 - val_loss: 1.9915 - val_acc: 0.7520\n",
      "Epoch 34/100\n",
      "24000/24000 [==============================] - 210s 9ms/step - loss: 0.5865 - acc: 0.8785 - val_loss: 1.9982 - val_acc: 0.7509\n",
      "Epoch 35/100\n",
      "24000/24000 [==============================] - 210s 9ms/step - loss: 0.5855 - acc: 0.8791 - val_loss: 2.0234 - val_acc: 0.7498\n",
      "Epoch 36/100\n",
      "24000/24000 [==============================] - 211s 9ms/step - loss: 0.5848 - acc: 0.8793 - val_loss: 2.0117 - val_acc: 0.7502\n",
      "Epoch 37/100\n",
      "24000/24000 [==============================] - 210s 9ms/step - loss: 0.5856 - acc: 0.8789 - val_loss: 2.0264 - val_acc: 0.7498\n",
      "Epoch 38/100\n",
      "24000/24000 [==============================] - 210s 9ms/step - loss: 0.5841 - acc: 0.8799 - val_loss: 2.0419 - val_acc: 0.7490\n",
      "Epoch 39/100\n",
      "24000/24000 [==============================] - 210s 9ms/step - loss: 0.5783 - acc: 0.8794 - val_loss: 2.0361 - val_acc: 0.7499\n",
      "Epoch 40/100\n",
      "24000/24000 [==============================] - 210s 9ms/step - loss: 0.5763 - acc: 0.8799 - val_loss: 2.0471 - val_acc: 0.7503\n",
      "Epoch 41/100\n",
      "24000/24000 [==============================] - 211s 9ms/step - loss: 0.5762 - acc: 0.8804 - val_loss: 2.0527 - val_acc: 0.7497\n",
      "Epoch 42/100\n",
      "24000/24000 [==============================] - 210s 9ms/step - loss: 0.5770 - acc: 0.8796 - val_loss: 2.0525 - val_acc: 0.7490\n",
      "Epoch 43/100\n",
      "24000/24000 [==============================] - 210s 9ms/step - loss: 0.5775 - acc: 0.8794 - val_loss: 2.0662 - val_acc: 0.7493\n",
      "Epoch 44/100\n",
      "24000/24000 [==============================] - 211s 9ms/step - loss: 0.5779 - acc: 0.8795 - val_loss: 2.0725 - val_acc: 0.7498\n",
      "Epoch 45/100\n",
      "24000/24000 [==============================] - 211s 9ms/step - loss: 0.5789 - acc: 0.8795 - val_loss: 2.0761 - val_acc: 0.7495\n",
      "Epoch 46/100\n",
      "24000/24000 [==============================] - 210s 9ms/step - loss: 0.5805 - acc: 0.8787 - val_loss: 2.0753 - val_acc: 0.7495\n",
      "Epoch 47/100\n",
      "24000/24000 [==============================] - 210s 9ms/step - loss: 0.5821 - acc: 0.8797 - val_loss: 2.0824 - val_acc: 0.7495\n",
      "Epoch 48/100\n",
      "24000/24000 [==============================] - 212s 9ms/step - loss: 0.5837 - acc: 0.8794 - val_loss: 2.0887 - val_acc: 0.7489\n",
      "Epoch 49/100\n",
      "24000/24000 [==============================] - 211s 9ms/step - loss: 0.5854 - acc: 0.8795 - val_loss: 2.0939 - val_acc: 0.7494\n",
      "Epoch 50/100\n",
      "24000/24000 [==============================] - 211s 9ms/step - loss: 0.5853 - acc: 0.8795 - val_loss: 2.1008 - val_acc: 0.7492\n",
      "Epoch 51/100\n",
      "24000/24000 [==============================] - 210s 9ms/step - loss: 0.5847 - acc: 0.8792 - val_loss: 2.0972 - val_acc: 0.7494\n",
      "Epoch 52/100\n",
      "24000/24000 [==============================] - 212s 9ms/step - loss: 0.5840 - acc: 0.8794 - val_loss: 2.0948 - val_acc: 0.7486\n",
      "Epoch 53/100\n",
      "24000/24000 [==============================] - 211s 9ms/step - loss: 0.5847 - acc: 0.8785 - val_loss: 2.1198 - val_acc: 0.7491\n",
      "Epoch 54/100\n",
      "24000/24000 [==============================] - 210s 9ms/step - loss: 0.5858 - acc: 0.8794 - val_loss: 2.1095 - val_acc: 0.7490\n",
      "Epoch 55/100\n",
      "24000/24000 [==============================] - 210s 9ms/step - loss: 0.5867 - acc: 0.8795 - val_loss: 2.1168 - val_acc: 0.7482\n",
      "Epoch 56/100\n",
      "24000/24000 [==============================] - 211s 9ms/step - loss: 0.5878 - acc: 0.8791 - val_loss: 2.1145 - val_acc: 0.7470\n",
      "Epoch 57/100\n",
      "24000/24000 [==============================] - 210s 9ms/step - loss: 0.5887 - acc: 0.8784 - val_loss: 2.1152 - val_acc: 0.7487\n",
      "Epoch 58/100\n",
      "24000/24000 [==============================] - 210s 9ms/step - loss: 0.5891 - acc: 0.8791 - val_loss: 2.1211 - val_acc: 0.7480\n",
      "Epoch 59/100\n",
      "24000/24000 [==============================] - 210s 9ms/step - loss: 0.5888 - acc: 0.8792 - val_loss: 2.1212 - val_acc: 0.7474\n",
      "Epoch 60/100\n",
      "24000/24000 [==============================] - 19987s 833ms/step - loss: 0.5888 - acc: 0.8789 - val_loss: 2.1055 - val_acc: 0.7479\n",
      "Epoch 61/100\n",
      "24000/24000 [==============================] - 120s 5ms/step - loss: 0.5895 - acc: 0.8787 - val_loss: 2.1192 - val_acc: 0.7477\n",
      "Epoch 62/100\n",
      "24000/24000 [==============================] - 219s 9ms/step - loss: 0.5895 - acc: 0.8786 - val_loss: 2.1127 - val_acc: 0.7479\n",
      "Epoch 63/100\n",
      "24000/24000 [==============================] - 245s 10ms/step - loss: 0.5895 - acc: 0.8789 - val_loss: 2.1179 - val_acc: 0.7478\n",
      "Epoch 64/100\n",
      "24000/24000 [==============================] - 227s 9ms/step - loss: 0.5894 - acc: 0.8790 - val_loss: 2.1205 - val_acc: 0.7468\n",
      "Epoch 65/100\n",
      "24000/24000 [==============================] - 222s 9ms/step - loss: 0.5894 - acc: 0.8787 - val_loss: 2.1179 - val_acc: 0.7470\n",
      "Epoch 66/100\n",
      "24000/24000 [==============================] - 208s 9ms/step - loss: 0.5893 - acc: 0.8793 - val_loss: 2.1285 - val_acc: 0.7476\n",
      "Epoch 67/100\n",
      "24000/24000 [==============================] - 206s 9ms/step - loss: 0.5894 - acc: 0.8793 - val_loss: 2.1291 - val_acc: 0.7458\n",
      "Epoch 68/100\n",
      "24000/24000 [==============================] - 136s 6ms/step - loss: 0.5891 - acc: 0.8787 - val_loss: 2.1357 - val_acc: 0.7464\n",
      "Epoch 69/100\n",
      "24000/24000 [==============================] - 131s 5ms/step - loss: 0.5893 - acc: 0.8787 - val_loss: 2.1315 - val_acc: 0.7467\n",
      "Epoch 70/100\n",
      "24000/24000 [==============================] - 131s 5ms/step - loss: 0.5884 - acc: 0.8786 - val_loss: 2.1420 - val_acc: 0.7468\n",
      "Epoch 71/100\n",
      "24000/24000 [==============================] - 139s 6ms/step - loss: 0.5876 - acc: 0.8793 - val_loss: 2.1441 - val_acc: 0.7470\n",
      "Epoch 72/100\n",
      "24000/24000 [==============================] - 205s 9ms/step - loss: 0.5867 - acc: 0.8784 - val_loss: 2.1474 - val_acc: 0.7461\n",
      "Epoch 73/100\n",
      "24000/24000 [==============================] - 208s 9ms/step - loss: 0.5852 - acc: 0.8791 - val_loss: 2.1501 - val_acc: 0.7454\n",
      "Epoch 74/100\n",
      "24000/24000 [==============================] - 187s 8ms/step - loss: 0.5833 - acc: 0.8786 - val_loss: 2.1615 - val_acc: 0.7462\n",
      "Epoch 75/100\n",
      "24000/24000 [==============================] - 119s 5ms/step - loss: 0.5820 - acc: 0.8793 - val_loss: 2.1587 - val_acc: 0.7452\n",
      "Epoch 76/100\n",
      "24000/24000 [==============================] - 128s 5ms/step - loss: 0.5797 - acc: 0.8790 - val_loss: 2.1617 - val_acc: 0.7461\n",
      "Epoch 77/100\n",
      "24000/24000 [==============================] - 129s 5ms/step - loss: 0.5783 - acc: 0.8790 - val_loss: 2.1719 - val_acc: 0.7456\n",
      "Epoch 78/100\n",
      "24000/24000 [==============================] - 133s 6ms/step - loss: 0.5771 - acc: 0.8790 - val_loss: 2.1744 - val_acc: 0.7458\n",
      "Epoch 79/100\n",
      "24000/24000 [==============================] - 140s 6ms/step - loss: 0.5762 - acc: 0.8794 - val_loss: 2.1767 - val_acc: 0.7458\n",
      "Epoch 80/100\n",
      "24000/24000 [==============================] - 142s 6ms/step - loss: 0.5759 - acc: 0.8791 - val_loss: 2.1741 - val_acc: 0.7466\n",
      "Epoch 81/100\n",
      "24000/24000 [==============================] - 142s 6ms/step - loss: 0.5756 - acc: 0.8791 - val_loss: 2.1721 - val_acc: 0.7470\n",
      "Epoch 82/100\n",
      "24000/24000 [==============================] - 143s 6ms/step - loss: 0.5765 - acc: 0.8788 - val_loss: 2.1723 - val_acc: 0.7466\n",
      "Epoch 83/100\n",
      "24000/24000 [==============================] - 143s 6ms/step - loss: 0.5770 - acc: 0.8790 - val_loss: 2.1707 - val_acc: 0.7461\n",
      "Epoch 84/100\n",
      "24000/24000 [==============================] - 142s 6ms/step - loss: 0.5791 - acc: 0.8787 - val_loss: 2.1792 - val_acc: 0.7461\n",
      "Epoch 85/100\n",
      "24000/24000 [==============================] - 143s 6ms/step - loss: 0.5804 - acc: 0.8790 - val_loss: 2.1838 - val_acc: 0.7453\n",
      "Epoch 86/100\n",
      "24000/24000 [==============================] - 143s 6ms/step - loss: 0.5819 - acc: 0.8785 - val_loss: 2.1836 - val_acc: 0.7446\n",
      "Epoch 87/100\n",
      "24000/24000 [==============================] - 143s 6ms/step - loss: 0.5841 - acc: 0.8792 - val_loss: 2.1845 - val_acc: 0.7456\n",
      "Epoch 88/100\n",
      "24000/24000 [==============================] - 144s 6ms/step - loss: 0.5853 - acc: 0.8791 - val_loss: 2.1875 - val_acc: 0.7445\n",
      "Epoch 89/100\n",
      "24000/24000 [==============================] - 145s 6ms/step - loss: 0.5878 - acc: 0.8784 - val_loss: 2.1829 - val_acc: 0.7451\n",
      "Epoch 90/100\n",
      "24000/24000 [==============================] - 142s 6ms/step - loss: 0.5898 - acc: 0.8782 - val_loss: 2.1900 - val_acc: 0.7447\n",
      "Epoch 91/100\n",
      "24000/24000 [==============================] - 134s 6ms/step - loss: 0.5915 - acc: 0.8779 - val_loss: 2.1877 - val_acc: 0.7459\n",
      "Epoch 92/100\n",
      "24000/24000 [==============================] - 128s 5ms/step - loss: 0.5922 - acc: 0.8781 - val_loss: 2.1883 - val_acc: 0.7441\n",
      "Epoch 93/100\n",
      "24000/24000 [==============================] - 128s 5ms/step - loss: 0.5936 - acc: 0.8775 - val_loss: 2.1952 - val_acc: 0.7436\n",
      "Epoch 94/100\n",
      "24000/24000 [==============================] - 128s 5ms/step - loss: 0.5943 - acc: 0.8782 - val_loss: 2.1956 - val_acc: 0.7448\n",
      "Epoch 95/100\n",
      "24000/24000 [==============================] - 128s 5ms/step - loss: 0.5953 - acc: 0.8782 - val_loss: 2.1889 - val_acc: 0.7443\n",
      "Epoch 96/100\n",
      "24000/24000 [==============================] - 132s 6ms/step - loss: 0.5960 - acc: 0.8781 - val_loss: 2.1902 - val_acc: 0.7444\n",
      "Epoch 97/100\n",
      "24000/24000 [==============================] - 138s 6ms/step - loss: 0.5979 - acc: 0.8776 - val_loss: 2.2042 - val_acc: 0.7435\n",
      "Epoch 98/100\n",
      "24000/24000 [==============================] - 135s 6ms/step - loss: 0.5990 - acc: 0.8772 - val_loss: 2.1967 - val_acc: 0.7444\n",
      "Epoch 99/100\n",
      "24000/24000 [==============================] - 131s 5ms/step - loss: 0.6002 - acc: 0.8774 - val_loss: 2.1930 - val_acc: 0.7435\n",
      "Epoch 100/100\n",
      "24000/24000 [==============================] - 128s 5ms/step - loss: 0.6008 - acc: 0.8774 - val_loss: 2.1939 - val_acc: 0.7447\n"
     ]
    }
   ],
   "source": [
    "r = model.fit([encoder_inputs, decoder_inputs], decoder_targets_one_hot,batch_size=BATCH_SIZE,epochs=EPOCHS,validation_split=0.2,)"
   ]
  },
  {
   "cell_type": "code",
   "execution_count": 37,
   "metadata": {},
   "outputs": [
    {
     "data": {
      "image/png": "[encoded data removed]",
      "text/plain": [
       "<Figure size 432x288 with 1 Axes>"
      ]
     },
     "metadata": {
      "needs_background": "light"
     },
     "output_type": "display_data"
    }
   ],
   "source": [
    "plt.plot(r.history['loss'], label='loss')\n",
    "plt.plot(r.history['val_loss'], label='val_loss')\n",
    "plt.legend()\n",
    "plt.show()"
   ]
  },
  {
   "cell_type": "code",
   "execution_count": 38,
   "metadata": {},
   "outputs": [
    {
     "data": {
      "image/png": "[encoded data removed]",
      "text/plain": [
       "<Figure size 432x288 with 1 Axes>"
      ]
     },
     "metadata": {
      "needs_background": "light"
     },
     "output_type": "display_data"
    }
   ],
   "source": [
    "plt.plot(r.history['acc'], label='acc')\n",
    "plt.plot(r.history['val_acc'], label='val_acc')\n",
    "plt.legend()\n",
    "plt.show()"
   ]
  },
  {
   "cell_type": "code",
   "execution_count": 39,
   "metadata": {},
   "outputs": [],
   "source": [
    "model.save('encoder_decoder.h5')"
   ]
  },
  {
   "cell_type": "markdown",
   "metadata": {},
   "source": [
    "# Now building a model for Prediction"
   ]
  },
  {
   "cell_type": "code",
   "execution_count": 40,
   "metadata": {},
   "outputs": [],
   "source": [
    "encoder_model = Model(encoder_inputs_placeholder, encoder_states)"
   ]
  },
  {
   "cell_type": "code",
   "execution_count": 41,
   "metadata": {},
   "outputs": [],
   "source": [
    "decoder_state_input_h = Input(shape=(LATENT_DIM,))\n",
    "decoder_state_input_c = Input(shape=(LATENT_DIM,))\n",
    "decoder_states_inputs = [decoder_state_input_h, decoder_state_input_c]"
   ]
  },
  {
   "cell_type": "code",
   "execution_count": 42,
   "metadata": {},
   "outputs": [],
   "source": [
    "decoder_inputs_single = Input(shape=(1,))\n",
    "decoder_inputs_single_x = decoder_embedding(decoder_inputs_single)\n",
    "\n",
    "decoder_outputs, h, c = decoder_lstm(decoder_inputs_single_x,initial_state=decoder_states_inputs)\n",
    "\n",
    "decoder_states = [h, c]\n",
    "decoder_outputs = decoder_dense(decoder_outputs)"
   ]
  },
  {
   "cell_type": "code",
   "execution_count": 43,
   "metadata": {},
   "outputs": [],
   "source": [
    "decoder_model = Model([decoder_inputs_single] + decoder_states_inputs, [decoder_outputs] + decoder_states)"
   ]
  },
  {
   "cell_type": "code",
   "execution_count": 44,
   "metadata": {},
   "outputs": [],
   "source": [
    "idx2word_eng = {v:k for k, v in word2idx_inputs.items()}\n",
    "idx2word_trans = {v:k for k, v in word2idx_outputs.items()}"
   ]
  },
  {
   "cell_type": "markdown",
   "metadata": {},
   "source": [
    "# fucntion to translate the sentence"
   ]
  },
  {
   "cell_type": "code",
   "execution_count": 45,
   "metadata": {},
   "outputs": [],
   "source": [
    "def decode_sequence(input_seq):\n",
    "    states_value = encoder_model.predict(input_seq)\n",
    "    target_seq = np.zeros((1, 1))\n",
    "    target_seq[0, 0] = word2idx_outputs['<sos>']\n",
    "    eos = word2idx_outputs['<eos>']\n",
    "    output_sentence = []\n",
    "    for _ in range(max_len_target):\n",
    "        output_tokens, h, c = decoder_model.predict([target_seq] + states_value)\n",
    "\n",
    "        idx = np.argmax(output_tokens[0, 0, :])\n",
    "\n",
    "        if eos == idx:\n",
    "            break\n",
    "\n",
    "        word = ''\n",
    "        if idx > 0:\n",
    "            word = idx2word_trans[idx]\n",
    "            output_sentence.append(word)\n",
    "\n",
    "        target_seq[0, 0] = idx\n",
    "        states_value = [h, c]\n",
    "\n",
    "    return ' '.join(output_sentence)"
   ]
  },
  {
   "cell_type": "code",
   "execution_count": 53,
   "metadata": {},
   "outputs": [
    {
     "name": "stdout",
     "output_type": "stream",
     "text": [
      "-\n",
      "Input: I won't lie.\n",
      "Translation: io non sono non la sono lei sono lei\n",
      "Continue? [Y/n]y\n",
      "-\n",
      "Input: You've changed.\n",
      "Translation: è cambiato.\n",
      "Continue? [Y/n]y\n",
      "-\n",
      "Input: Tom biked home.\n",
      "Translation: tom è andato a casa in bici.\n",
      "Continue? [Y/n]n\n"
     ]
    }
   ],
   "source": [
    "while True:\n",
    "    i = np.random.choice(len(input_texts))\n",
    "    input_seq = encoder_inputs[i:i+1]\n",
    "    translation = decode_sequence(input_seq)\n",
    "    print('-')\n",
    "    print('Input:', input_texts[i])\n",
    "    print('Translation:', translation)\n",
    "\n",
    "    ans = input(\"Continue? [Y/n]\")\n",
    "    if ans and ans.lower().startswith('n'):\n",
    "        break"
   ]
  },
  {
   "cell_type": "code",
   "execution_count": null,
   "metadata": {},
   "outputs": [],
   "source": []
  }
 ],
 "metadata": {
  "kernelspec": {
   "display_name": "Python 3",
   "language": "python",
   "name": "python3"
  },
  "language_info": {
   "codemirror_mode": {
    "name": "ipython",
    "version": 3
   },
   "file_extension": ".py",
   "mimetype": "text/x-python",
   "name": "python",
   "nbconvert_exporter": "python",
   "pygments_lexer": "ipython3",
   "version": "3.7.3"
  }
 },
 "nbformat": 4,
 "nbformat_minor": 2
}
